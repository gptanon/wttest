{
  "cells": [
    {
      "cell_type": "code",
      "execution_count": null,
      "metadata": {
        "collapsed": false
      },
      "outputs": [],
      "source": [
        "%matplotlib inline"
      ]
    },
    {
      "cell_type": "markdown",
      "metadata": {},
      "source": [
        "\n# Visuals tour\n\nShow every major use case of most `wavespin.visuals`.\n"
      ]
    },
    {
      "cell_type": "code",
      "execution_count": null,
      "metadata": {
        "collapsed": false
      },
      "outputs": [],
      "source": [
        "# ###############################################################################\n# # Select visuals\n# # --------------\n# SHOW = [\n#     # 'heatmap',\n#     # 'filterbank_scattering',\n#     # 'filterbank_jtfs_1d',\n#     # 'scalogram',\n#     # 'gif_jtfs_2d',\n#     # 'gif_jtfs_3d',\n#     # 'energy_profile_jtfs',\n#     # 'coeff_distance_jtfs',\n#     # 'viz_jtfs_2d',\n#     # 'viz_spin_1d',\n#     'viz_spin_2d',\n# ]\n\n# ###############################################################################\n# # Import the necessary packages\n# # -----------------------------\n# import numpy as np\n# from wavespin import TimeFrequencyScattering1D, Scattering1D\n# from wavespin import visuals as v\n# from wavespin import toolkit\n\n# ###############################################################################\n# # Generate echirp and create scattering object\n# # --------------------------------------------\n# N = 4096\n# # span low to Nyquist; assume duration of 1 second\n# x = toolkit.echirp(N, fmin=64, fmax=N/2) / 2\n# x += np.cos(2*np.pi * 360 * np.linspace(0, 1, N, 1)) / 2\n# x[N//2-16:N//2+16] += 5\n\n# # 8 temporal octaves\n# J = 8\n# # 8 bandpass wavelets per octave\n# # J*Q ~= 144 total temporal coefficients in first-order scattering\n# Q = 16\n# # scale of temporal invariance, 31.25 ms (2**8 [samples] / 4096 [samples/sec])\n# T = 2**8\n# # 4 frequential octaves\n# J_fr = 4\n# # 2 bandpass wavelets per octave\n# Q_fr = 1\n# # scale of frequential invariance, F/Q == 0.5 cycle per octave\n# F = 16\n# # average to reduce transform size and impose freq transposition invariance\n# average_fr = True\n# # frequential padding; 'zero' avoids a few discretization artefacts\n# # for this example\n# pad_mode_fr = 'zero'\n# # return packed as dict keyed by pair names for easy inspection\n# out_type = 'dict:array'\n# # pad as much as needed\n# max_pad_factor = None\n# max_pad_factor_fr = None\n\n# kw_common = dict(shape=N, J=J, Q=Q, T=T, frontend='numpy',\n#                  max_pad_factor=max_pad_factor)\n# kw_jtfs = dict(J_fr=J_fr, Q_fr=Q_fr, F=F, pad_mode_fr=pad_mode_fr,\n#                max_pad_factor_fr=max_pad_factor_fr, **kw_common)\n# kw_sc = dict(out_type='list', **kw_common)\n# jtfs = TimeFrequencyScattering1D(**kw_jtfs, average_fr=average_fr,\n#                                  out_type=out_type)\n# sc_a = Scattering1D(**kw_sc, average=True)\n# sc_u = Scattering1D(**kw_sc, average=False)\n\n# Scx_j  = jtfs(x)\n# Scx_sa = sc_a(x)\n# Scx_su = sc_u(x)\n\n# # process arg\n# SHOW = {k: True for k in SHOW}\n\n# ###############################################################################\n# # Heatmaps\n# # --------\n# if SHOW.get('heatmap', False):\n#     v.filterbank_heatmap(jtfs, first_order=1, second_order=1, frequential=1,\n#                          parts='all')\n\n# ###############################################################################\n# # Freq-domain filters, with energies and zoom\n# # -------------------------------------------\n# if SHOW.get('filterbank_scattering', False):\n#     v.filterbank_scattering(jtfs, zoom=0)\n#     v.filterbank_scattering(jtfs, zoom=5)\n#     v.filterbank_scattering(jtfs, first_order=0, second_order=1, lp_sum=1)\n\n# ###############################################################################\n# # JTFS filters, in freq domain\n# # ----------------------------\n# if SHOW.get('filterbank_jtfs_1d', False):\n#     v.filterbank_jtfs_1d(jtfs, zoom=0)\n#     v.filterbank_jtfs_1d(jtfs, zoom=0, both_spins=0)\n#     v.filterbank_jtfs_1d(jtfs, zoom=-1)\n#     v.filterbank_jtfs_1d(jtfs, zoom=-1, center_dc=0)\n\n# ###############################################################################\n# # Simple scalogram\n# # ----------------\n# if SHOW.get('scalogram', False):\n#     v.scalogram(x, sc_u, show_x=1, fs=N)\n\n# ###############################################################################\n# # GIF of JTFS slices\n# # ------------------\n# if SHOW.get('gif_jtfs_2d', False):\n#     v.gif_jtfs_2d(Scx_j, jtfs.meta(), verbose=1, show=0, overwrite=True)\n\n# ###############################################################################\n# # GIF of full 4D JTFS structure\n# # -----------------------------\n# if SHOW.get('gif_jtfs_3d', False):\n#     v.gif_jtfs_3d(Scx_j, jtfs, preset='spinned', savedir='', overwrite=True)\n\n# #%%############################################################################\n# # Energy distribution across pairs and coefficients within\n# # --------------------------------------------------------\n# if SHOW.get('energy_profile_jtfs', False):\n#     _ = v.energy_profile_jtfs(Scx_j, jtfs.meta(), x=x, w=.7, h=.9)\n#     _ = v.energy_profile_jtfs(Scx_j, jtfs.meta(),\n#                               pairs=('psi_t * psi_f_up', 'psi_t * psi_f_dn'))\n\n# ###############################################################################\n# # Coefficient *relative* distance on frequency transposition, pairwise\n# # --------------------------------------------------------------------\n# if SHOW.get('coeff_distance_jtfs', False):\n#     f0 = N // 12\n#     f1 = f0 / np.sqrt(2)\n#     n_partials = 5\n#     seg_len = N//8\n\n#     x0 = toolkit.fdts(N, n_partials, f0=f0, seg_len=seg_len)[0]\n#     x1 = toolkit.fdts(N, n_partials, f0=f1, seg_len=seg_len)[0]\n\n#     jtfs_x0_all = jtfs(x0)\n#     jtfs_x1_all = jtfs(x1)\n#     jtfs_x0_all = toolkit.jtfs_to_numpy(jtfs_x0_all)\n#     jtfs_x1_all = toolkit.jtfs_to_numpy(jtfs_x1_all)\n\n#     _ = v.coeff_distance_jtfs(jtfs_x0_all, jtfs_x1_all, jtfs.meta(), plots=True)\n#     # note how S1 relative distance is much greater than that of JTFS slices\n\n# ###############################################################################\n# # JTFS 2D filterbank and coefficients\n# # -----------------------------------\n# if SHOW.get('viz_jtfs_2d', False):\n#     ###########################################################################\n#     # Configure\n#     # ---------\n#     ju_kw = dict(\n#         # don't average, else JTFS coefficients don't look interesting\n#         average_fr = False,\n#         average = False,\n#         # must compensate for lack of averaging with lack of subsampling\n#         oversampling_fr = 99,\n#         oversampling = 99,\n#         # list required for `average=False`\n#         out_type = 'dict:list',\n#         # omit low energy coefficients for more compact visualization\n#         paths_exclude = {'n2': [3, 4], 'n1_fr': [0]},\n#     )\n#     jtfs_u = TimeFrequencyScattering1D(**kw_jtfs, **ju_kw)\n\n#     Scx_ju  = jtfs_u(x)\n#     ckw = dict(jtfs=jtfs_u)\n\n#     ###########################################################################\n#     # Visualize\n#     # ---------\n#     # show the coefficients\n#     v.viz_jtfs_2d(**ckw, Scx=Scx_ju, viz_filterbank=0, viz_coeffs=1)\n\n#     # show the corresponding filters, real part by default\n#     v.viz_jtfs_2d(**ckw, viz_filterbank=1,\n#                   savename='j2d_0')\n#     # imaginary part\n#     v.viz_jtfs_2d(**ckw, viz_filterbank=1, plot_cfg={'filter_part': 'imag'},\n#                   savename='j2d_1')\n#     # pseudo-complex colormap\n#     v.viz_jtfs_2d(**ckw, viz_filterbank=1, plot_cfg={'filter_part': 'complex'},\n#                   savename='j2d_2')\n#     # show amplitude envelopes only\n#     v.viz_jtfs_2d(**ckw, viz_filterbank=1,\n#                   plot_cfg={'filter_part': 'abs',\n#                             'imshow_kw_filterbank': {'cmap': 'turbo'}},\n#                   savename='j2d_3')\n\n#     # zoom on every wavelet's own support, illustrating self-similarity\n#     v.viz_jtfs_2d(**ckw, viz_filterbank=1, plot_cfg={'filterbank_zoom': -1})\n\n#     ###########################################################################\n#     # Make gif from images we just made\n#     # ---------------------------------\n#     v.make_gif(loaddir='', savepath='jtfs2d_filterbank.gif', duration=1500,\n#                delimiter='j2d', overwrite=1, delete_images=0, HD=1, verbose=1)\n\n# ###############################################################################\n# # Visualize a single Morlet\n# # -------------------------\n# if SHOW.get('viz_spin_1d', False):\n#     v.viz_spin_1d(verbose=1, savepath='viz_morlet_1d')\n\n# ###############################################################################\n# # Visualize JTFS wavelets in 4D\n# # -----------------------------\n# if SHOW.get('viz_spin_2d', False):\n#     v.viz_spin_2d(preset=0, verbose=1, savepath='viz_spin_up')\n#     # v.viz_spin_2d(preset=1, verbose=1, savepath='viz_spin_both')\n#     # v.viz_spin_2d(preset=2, verbose=1, savepath='viz_spin_all')\n#     # v.viz_spin_2d(preset=2, verbose=1, savepath='viz_spin_all')"
      ]
    }
  ],
  "metadata": {
    "kernelspec": {
      "display_name": "Python 3",
      "language": "python",
      "name": "python3"
    },
    "language_info": {
      "codemirror_mode": {
        "name": "ipython",
        "version": 3
      },
      "file_extension": ".py",
      "mimetype": "text/x-python",
      "name": "python",
      "nbconvert_exporter": "python",
      "pygments_lexer": "ipython3",
      "version": "3.10.4"
    }
  },
  "nbformat": 4,
  "nbformat_minor": 0
}
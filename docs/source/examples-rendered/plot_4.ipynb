{
  "cells": [
    {
      "cell_type": "code",
      "execution_count": null,
      "metadata": {
        "collapsed": false
      },
      "outputs": [],
      "source": [
        "%matplotlib inline"
      ]
    },
    {
      "cell_type": "markdown",
      "metadata": {},
      "source": [
        "\n# Plot 4\nYes\n"
      ]
    },
    {
      "cell_type": "code",
      "execution_count": null,
      "metadata": {
        "collapsed": false
      },
      "outputs": [],
      "source": [
        "import numpy as np\nimport matplotlib.pyplot as plt\nimport matplotlib.animation as animation\n\nclass Animator1D(animation.TimedAnimation):\n    def __init__(self):\n        fig, ax = plt.subplots(1, 1)\n        self.lines = [ax.plot(np.random.randn(4))[0]]\n\n        animation.TimedAnimation.__init__(self, fig, blit=True)\n\n    def _draw_frame(self, frame_idx):\n        self.lines[0].set_data(np.arange(4), np.random.randn(4) / 5)\n        self._drawn_artists = [*self.lines]\n\n    def new_frame_seq(self):\n        return iter(range(30))\n\n    def _init_draw(self):\n        pass\n\n\nani = Animator1D()\nani.save('yes.mp4', fps=10, savefig_kwargs=dict(pad_inches=0))"
      ]
    }
  ],
  "metadata": {
    "kernelspec": {
      "display_name": "Python 3",
      "language": "python",
      "name": "python3"
    },
    "language_info": {
      "codemirror_mode": {
        "name": "ipython",
        "version": 3
      },
      "file_extension": ".py",
      "mimetype": "text/x-python",
      "name": "python",
      "nbconvert_exporter": "python",
      "pygments_lexer": "ipython3",
      "version": "3.10.4"
    }
  },
  "nbformat": 4,
  "nbformat_minor": 0
}
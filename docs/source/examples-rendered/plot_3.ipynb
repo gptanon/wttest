{
  "cells": [
    {
      "cell_type": "code",
      "execution_count": null,
      "metadata": {
        "collapsed": false
      },
      "outputs": [],
      "source": [
        "%matplotlib inline"
      ]
    },
    {
      "cell_type": "markdown",
      "metadata": {},
      "source": [
        "\n# Plot\nExample\n"
      ]
    },
    {
      "cell_type": "code",
      "execution_count": null,
      "metadata": {
        "collapsed": false
      },
      "outputs": [],
      "source": [
        "# from wavespin.visuals import plot\n# plot([1, 2, 3], title=\"Title\")\n\n# import numpy as np\n# import matplotlib.pyplot as plt\n# import matplotlib as mpl\n# # mpl.rcParams['savefig.bbox'] = 'tight'\n\n# for j in range(2):\n#     fig, axes = plt.subplots(4, 5, figsize=(11/2, 15.89/2))\n\n#     for i, ax in enumerate(axes.flat):\n#         cmap = 'bwr' if j == 0 else None\n#         ax.imshow(np.random.randn(16, 16), cmap=cmap)\n#         ax.set_xlabel(str(i), fontsize=20)\n#         if i % 5 == 0:\n#             ax.set_ylabel(str(i), fontsize=20)\n#         ax.set_xticks([])\n#         ax.set_yticks([])\n#         for spine in ax.spines:\n#             ax.spines[spine].set_visible(False)\n\n\n#     fig.suptitle(\"Title\", weight='bold', fontsize=26, y=1.025)\n#     fig.subplots_adjust(left=0, right=1, bottom=0, top=1,\n#                         wspace=.02, hspace=.02)\n#     fig.supxlabel(\"supXlabel\", weight='bold', fontsize=24, y=-.05)\n#     fig.supylabel(\"supYlabel\", weight='bold', fontsize=24, x=-.066)\n\n#     plt.suptitle(\"Title\", weight='bold', fontsize=26, y=1.025)\n#     # plt.savefig(\"yes.png\")\n#     plt.show()"
      ]
    }
  ],
  "metadata": {
    "kernelspec": {
      "display_name": "Python 3",
      "language": "python",
      "name": "python3"
    },
    "language_info": {
      "codemirror_mode": {
        "name": "ipython",
        "version": 3
      },
      "file_extension": ".py",
      "mimetype": "text/x-python",
      "name": "python",
      "nbconvert_exporter": "python",
      "pygments_lexer": "ipython3",
      "version": "3.10.4"
    }
  },
  "nbformat": 4,
  "nbformat_minor": 0
}